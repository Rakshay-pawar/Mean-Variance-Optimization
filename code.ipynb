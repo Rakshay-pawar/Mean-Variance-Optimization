{
 "cells": [
  {
   "cell_type": "code",
   "execution_count": 2,
   "id": "ab775a4a-73e9-44bf-a775-82b1a5537316",
   "metadata": {},
   "outputs": [
    {
     "name": "stdout",
     "output_type": "stream",
     "text": [
      "                 Arith SP500  Geom SP500  Arith Excess  Geom Excess\n",
      "Daily Returns      11.102462   10.115897      6.365313     5.020206\n",
      "Monthly Returns    10.848059   10.115897      6.069430     4.990674\n",
      "Annual Returns     11.597021   10.115897      6.530359     4.925856\n",
      "5-year Returns     13.793386   10.115897      7.937892     5.582103\n"
     ]
    }
   ],
   "source": [
    "import os\n",
    "os.chdir(r\"/Users/rakshaypawar/Desktop/Problem Set 6_2022\")\n",
    "import pandas as pd\n",
    "import numpy as np\n",
    "import matplotlib.pyplot as plt\n",
    "from datetime import datetime\n",
    "import matplotlib.pyplot as plt\n",
    "import statsmodels.api as sm\n",
    "import warnings\n",
    "warnings.filterwarnings('ignore')\n",
    "\n",
    "# Nelson-Siegel-Svensson Function for ZCB yields\n",
    "#note that the early years ignore t2 and b3, but no need to adjust the formula since b3=0\n",
    "def nssyld(b0, b1, b2, b3, t1, t2, m):\n",
    "    mt1 = m/t1\n",
    "    mt2 = m/t2    \n",
    "    expmt1 = np.exp(-mt1)\n",
    "    expmt2 = np.exp(-mt2)\n",
    "    c1 = (1-expmt1)/mt1\n",
    "    c2 = c1 - expmt1\n",
    "    c3 = (1-expmt2)/mt2 - expmt2\n",
    "    return(np.exp((b0 + b1 * c1 + b2 * c2 + b3 * c3)/100)-1)  #total the returns\n",
    "\n",
    "begindate = \"1971-12-31\"\n",
    "enddate = \"2021-12-31\"\n",
    "\n",
    "#read the data, beginning with the S&P\n",
    "#sp500\n",
    "sp500 = pd.read_csv(\"sp500_2022.csv\")\n",
    "sp500.columns = ['date','sp500']\n",
    "sp500['date'] = pd.to_datetime(sp500['date'], format = '%Y%m%d')\n",
    "\n",
    "filt = (sp500['date']>= begindate) & (sp500['date'] <= enddate)\n",
    "sp500 = sp500.loc[filt]\n",
    "\n",
    "sp500.loc[-1] = [pd.to_datetime(\"1971-12-31\"),0]\n",
    "sp500.index = sp500.index + 1  # shifting index\n",
    "sp500.sort_index(inplace=True) \n",
    "\n",
    "#work on the yield curve\n",
    "#The following assumes headers have already been removed and the first column is named DATE\n",
    "nss = pd.read_csv(\"nss_2022.csv\")\n",
    "nss.columns = nss.columns.str.lower()\n",
    "nss['date'] = pd.to_datetime(nss['date'], format = '%m/%d/%Y')\n",
    "nss = nss.dropna( how='any', subset=[\"beta0\", \"beta1\", \"beta2\", \"beta3\", \"tau1\", \"tau2\"])\n",
    "filt = (nss['date']>= begindate) & (nss['date'] <= enddate)\n",
    "nss = nss.loc[filt]\n",
    "\n",
    "#merge the datasets \n",
    "d = sp500.merge(nss, on='date', how='left')\n",
    "\n",
    "# The bond market is open fewer days than the stock market.\n",
    "d = d.dropna()\n",
    "\n",
    "d['sp500_plus_1'] = d['sp500'] + 1\n",
    "d['sp500cumulative'] = d['sp500_plus_1'].cumprod(axis = 0)\n",
    "d = d.dropna()\n",
    "\n",
    "d.set_index('date', inplace=True)\n",
    "d['date'] = d.index\n",
    "\n",
    "#consolidate returns by time horizon\n",
    "def sp500rhorizon(d, horizon):\n",
    "    n = d.resample(horizon).last()\n",
    "    return n\n",
    "\n",
    "def findyears(d):\n",
    "    x = ((max(d['date']) - min(d['date'])).days)/365.25\n",
    "    x= round(x)\n",
    "    return x\n",
    "\n",
    "\n",
    "#build the returns at each horizon\n",
    "m = sp500rhorizon(d, horizon=\"M\")\n",
    "y = sp500rhorizon(m, horizon=\"Y\")\n",
    "y5 = y.iloc[::5, :] #y.iloc[::5,:] > extract every 5th row \n",
    "\n",
    "m['r'] = m['sp500cumulative']/m['sp500cumulative'].shift() - 1\n",
    "y['r'] = y['sp500cumulative']/y['sp500cumulative'].shift() - 1\n",
    "y5['r'] = y5['sp500cumulative']/y5['sp500cumulative'].shift() - 1\n",
    "d['r']=d['sp500']\n",
    "\n",
    "#adds in the ZCB info and computes the excess returns\n",
    "def excessrets(d):\n",
    "    d['mat'] = (d['date'].shift(-1) - d['date']).dt.days/365  # maturities of ZCB (ACT/365)\n",
    "    d['zcb'] = d.apply(lambda row: nssyld(row['beta0'], row['beta1'], row['beta2'], row['beta3'], row['tau1'],row['tau2'],row['mat']),axis =1) # ZCB yields\n",
    "    # ZCB ret (no need to go through the PS4 approach \n",
    "    # since these are matched with the time horizon)\n",
    "    d['rf'] = d['zcb'].shift()*d['mat'].shift()\n",
    "    d['xret'] = d['r'] - d['rf']\n",
    "    filt = (d['date'] !=  \"1971-12-31\")\n",
    "    d = d.loc[filt] #drop first row \n",
    "    d['xret_1'] = d['xret'] +1\n",
    "    d['xlevel'] = d['xret_1'].cumprod(axis = 0)\n",
    "    return d\n",
    "\n",
    "nyears = {'d': findyears(d),\n",
    "          'm': findyears(m),\n",
    "          'y': findyears(y),\n",
    "          'y5': (len(y.iloc[::5,:])-1)*5}\n",
    "\n",
    "d = excessrets(d)\n",
    "m = excessrets(m)\n",
    "y = excessrets(y)\n",
    "y5 = excessrets(y5)\n",
    "\n",
    "testd = d\n",
    "testm = m\n",
    "testy = y\n",
    "testy5 = y5\n",
    "\n",
    "# enter the results \n",
    "days_per_year = d.shape[0]/ nyears['d']\n",
    "res = pd.DataFrame(np.zeros((4,4)), columns =['Arith SP500', 'Geom SP500', 'Arith Excess', 'Geom Excess'])\n",
    "res.index = [\"Daily Returns\", \"Monthly Returns\", \"Annual Returns\", \"5-year Returns\"]\n",
    "res['Arith SP500'].iloc[0] = d['r'].mean()*days_per_year\n",
    "res['Arith SP500'].iloc[1] = m['r'].mean()*12\n",
    "res['Arith SP500'].iloc[2] = y['r'].mean()\n",
    "res['Arith SP500'].iloc[3] = y5['r'].mean()/5\n",
    "\n",
    "res['Geom SP500'].iloc[0] =  d['sp500cumulative'].iloc[-1] **(1 / nyears['d']) - 1\n",
    "res['Geom SP500'].iloc[1] =  m['sp500cumulative'].iloc[-1] **(1 / nyears['m']) - 1\n",
    "res['Geom SP500'].iloc[2] =  y['sp500cumulative'].iloc[-1] **(1 / nyears['y']) - 1\n",
    "res['Geom SP500'].iloc[3] = y5['sp500cumulative'].iloc[-1] **(1 / nyears['y5']) - 1\n",
    "\n",
    "res['Arith Excess'].iloc[0] = d['xret'].mean()*days_per_year\n",
    "res['Arith Excess'].iloc[1] = m['xret'].mean()*12\n",
    "res['Arith Excess'].iloc[2] = y['xret'].mean()\n",
    "res['Arith Excess'].iloc[3] = y5['xret'].mean()/5\n",
    "\n",
    "res['Geom Excess'].iloc[0] = d['xlevel'].iloc[-1]**(1 / nyears['d']) -1 \n",
    "res['Geom Excess'].iloc[1] = m['xlevel'].iloc[-1]**(1 / nyears['m']) -1 \n",
    "res['Geom Excess'].iloc[2] = y['xlevel'].iloc[-1]**(1 / nyears['y']) -1 \n",
    "res['Geom Excess'].iloc[3] = y5['xlevel'].iloc[-1]**(1 / nyears['y5']) -1 \n",
    "\n",
    "\n",
    "res = res*100\n",
    "print(res)"
   ]
  },
  {
   "cell_type": "code",
   "execution_count": 3,
   "id": "2fe8ab2d-dbf9-47f9-837c-5ffb803d9821",
   "metadata": {},
   "outputs": [],
   "source": [
    "res3 = pd.DataFrame(np.zeros((4,2)), columns =[\"w: SP500\", \"w: Bonds\"])\n",
    "res3.index = [\"Daily Returns\", \"Monthly Returns\", \"Annual Returns\", \"5-year Returns\"]\n",
    "A = 4\n",
    "\n",
    "def wsp500(xret):\n",
    "    result = xret.mean()/ (A*xret.var())\n",
    "    return result"
   ]
  },
  {
   "cell_type": "code",
   "execution_count": 4,
   "id": "e5d47eb5-c78c-4449-aba7-5e49c6eaed23",
   "metadata": {},
   "outputs": [],
   "source": [
    "res3[\"w: SP500\"].iloc[0] = wsp500(d['xret'])\n",
    "res3[\"w: SP500\"].iloc[1] = wsp500(m['xret'])\n",
    "res3[\"w: SP500\"].iloc[2] = wsp500(y['xret'])\n",
    "res3[\"w: SP500\"].iloc[3] = wsp500(y5['xret'])\n",
    "res3[\"w: Bonds\"]= 1 - res3[\"w: SP500\"]\n",
    "res3_100=res3*100"
   ]
  },
  {
   "cell_type": "code",
   "execution_count": 5,
   "id": "67923ba3-1b9f-4916-848d-ee9ca42a4796",
   "metadata": {},
   "outputs": [
    {
     "name": "stdout",
     "output_type": "stream",
     "text": [
      "                  w: SP500   w: Bonds\n",
      "Daily Returns    54.577936  45.422064\n",
      "Monthly Returns  65.127854  34.872146\n",
      "Annual Returns   54.186172  45.813828\n",
      "5-year Returns   40.158581  59.841419\n"
     ]
    }
   ],
   "source": [
    "print(res3_100)"
   ]
  },
  {
   "cell_type": "code",
   "execution_count": 6,
   "id": "28f23dea-a2f8-440d-9b86-6a7e097cff85",
   "metadata": {},
   "outputs": [
    {
     "name": "stdout",
     "output_type": "stream",
     "text": [
      "\\begin{tabular}{lrrrr}\n",
      "\\toprule\n",
      "{} &  Arith SP500 &  Geom SP500 &  Arith Excess &  Geom Excess \\\\\n",
      "\\midrule\n",
      "Daily Returns   &    11.102462 &   10.115897 &      6.365313 &     5.020206 \\\\\n",
      "Monthly Returns &    10.848059 &   10.115897 &      6.069430 &     4.990674 \\\\\n",
      "Annual Returns  &    11.597021 &   10.115897 &      6.530359 &     4.925856 \\\\\n",
      "5-year Returns  &    13.793386 &   10.115897 &      7.937892 &     5.582103 \\\\\n",
      "\\bottomrule\n",
      "\\end{tabular}\n",
      "\n"
     ]
    }
   ],
   "source": [
    "print(res.to_latex())"
   ]
  },
  {
   "cell_type": "code",
   "execution_count": 7,
   "id": "01cdc435-74ef-4ceb-87a2-92ef557c7934",
   "metadata": {},
   "outputs": [
    {
     "name": "stdout",
     "output_type": "stream",
     "text": [
      "\\begin{tabular}{lrr}\n",
      "\\toprule\n",
      "{} &   w: SP500 &   w: Bonds \\\\\n",
      "\\midrule\n",
      "Daily Returns   &  54.577936 &  45.422064 \\\\\n",
      "Monthly Returns &  65.127854 &  34.872146 \\\\\n",
      "Annual Returns  &  54.186172 &  45.813828 \\\\\n",
      "5-year Returns  &  40.158581 &  59.841419 \\\\\n",
      "\\bottomrule\n",
      "\\end{tabular}\n",
      "\n"
     ]
    }
   ],
   "source": [
    "print(res3_100.to_latex())"
   ]
  },
  {
   "cell_type": "code",
   "execution_count": null,
   "id": "9fd1ed19-b9dc-4aee-ad8d-08b95535e7e0",
   "metadata": {},
   "outputs": [],
   "source": []
  },
  {
   "cell_type": "code",
   "execution_count": null,
   "id": "b27392a8-914a-4dd4-bf52-1950e2d4877e",
   "metadata": {},
   "outputs": [],
   "source": []
  }
 ],
 "metadata": {
  "kernelspec": {
   "display_name": "Python 3 (ipykernel)",
   "language": "python",
   "name": "python3"
  },
  "language_info": {
   "codemirror_mode": {
    "name": "ipython",
    "version": 3
   },
   "file_extension": ".py",
   "mimetype": "text/x-python",
   "name": "python",
   "nbconvert_exporter": "python",
   "pygments_lexer": "ipython3",
   "version": "3.9.7"
  }
 },
 "nbformat": 4,
 "nbformat_minor": 5
}
